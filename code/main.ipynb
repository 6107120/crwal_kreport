{
 "cells": [
  {
   "cell_type": "code",
   "execution_count": 3,
   "metadata": {},
   "outputs": [],
   "source": [
    "# over python3.7 for asyncio function"
   ]
  },
  {
   "cell_type": "markdown",
   "metadata": {},
   "source": [
    "# K-report 사이트를 통한 사업자 기본정보 조회\n",
    "- iFrame가 적용된 웹사이트\n",
    "\n",
    "목차\n",
    "[1.라이브러리](#Import-lib)<br>\n",
    "[2.타겟 데이터 class](#target-data-class)<br>\n",
    "[3.크롤러 구현](#K-report-crawler)<br>\n",
    "[4.유틸리티](#Util)<br>\n",
    "[5.실행](#Main)<br>"
   ]
  },
  {
   "cell_type": "markdown",
   "metadata": {},
   "source": [
    "### Import lib"
   ]
  },
  {
   "cell_type": "code",
   "execution_count": 4,
   "metadata": {},
   "outputs": [],
   "source": [
    "import pandas as pd\n",
    "import time\n",
    "\n",
    "from concurrent.futures.thread import ThreadPoolExecutor\n",
    "import asyncio\n",
    "import nest_asyncio\n",
    "nest_asyncio.apply()\n",
    "\n",
    "from selenium.webdriver import Chrome\n",
    "from selenium.webdriver.chrome.options import Options\n",
    "from selenium.webdriver.common.keys import Keys\n",
    "from selenium.webdriver.common.by import By\n",
    "from selenium.webdriver.support.ui import WebDriverWait\n",
    "from selenium.webdriver.support import expected_conditions as EC\n",
    "from selenium.common import exceptions as e\n",
    "\n",
    "import requests"
   ]
  },
  {
   "cell_type": "markdown",
   "metadata": {},
   "source": [
    "### target data class"
   ]
  },
  {
   "cell_type": "code",
   "execution_count": 56,
   "metadata": {},
   "outputs": [],
   "source": [
    "class Dataset:\n",
    "    def __init__(self, header):\n",
    "        self.dataset = [header]"
   ]
  },
  {
   "cell_type": "markdown",
   "metadata": {},
   "source": [
    "### K-report crawler"
   ]
  },
  {
   "cell_type": "code",
   "execution_count": 6,
   "metadata": {},
   "outputs": [],
   "source": [
    "class KReport:\n",
    "    def __init__(self):\n",
    "        self.base_address = 'http://www.kreport.co.kr/ctcssr_a30s.do'\n",
    "        self.webdriver_path = '../webdriver/chromedriver'\n",
    "        self.init_delay = 5 \n",
    "        self.webdriver_hide = '--headless'"
   ]
  },
  {
   "cell_type": "code",
   "execution_count": 7,
   "metadata": {},
   "outputs": [],
   "source": [
    "def init_webdriver(self, path, hide):\n",
    "    chrome_options = Options()  \n",
    "    chrome_options.add_argument(hide)\n",
    "    return Chrome(path, options=chrome_options)\n",
    "\n",
    "KReport.init_webdriver = init_webdriver"
   ]
  },
  {
   "cell_type": "code",
   "execution_count": 8,
   "metadata": {},
   "outputs": [],
   "source": [
    "def on_site(self, browser, url, delay):\n",
    "    browser.get(url)\n",
    "    browser.implicitly_wait(delay)\n",
    "\n",
    "KReport.on_site = on_site"
   ]
  },
  {
   "cell_type": "code",
   "execution_count": 9,
   "metadata": {},
   "outputs": [],
   "source": [
    "def run_query(self, browser, cn, delay):\n",
    "    try:\n",
    "        WebDriverWait(browser, delay).until(EC.presence_of_element_located(\n",
    "            (By.XPATH, \"//div[@class='searcharea2 mgt0']/form/input[@id='cmQuery']\")))\n",
    "        browser.find_element_by_xpath(\"//div[@class='searcharea2 mgt0']/form/input[@id='cmQuery']\").click()\n",
    "        browser.find_element_by_xpath(\"//div[@class='searcharea2 mgt0']/form/input[@id='cmQuery']\").send_keys(cn)\n",
    "        browser.implicitly_wait(0.1)\n",
    "        browser.find_element_by_class_name('btn_search').click()\n",
    "    except e.TimeoutException:\n",
    "        return e\n",
    "    return True\n",
    "KReport.run_query = run_query"
   ]
  },
  {
   "cell_type": "code",
   "execution_count": 10,
   "metadata": {},
   "outputs": [],
   "source": [
    "def find_herf(self, browser, delay):\n",
    "    try:\n",
    "        WebDriverWait(browser, delay).until(EC.presence_of_element_located(\n",
    "            (By.XPATH, \"//ul[@class='bizlist']\")))\n",
    "        a = browser.find_element_by_xpath(\"//ul[@class='bizlist']/li/ul/li/a\")\n",
    "        browser.get(a.get_attribute('href'))\n",
    "    except e.TimeoutException:\n",
    "        return e\n",
    "    return True\n",
    "\n",
    "KReport.find_herf = find_herf"
   ]
  },
  {
   "cell_type": "code",
   "execution_count": 11,
   "metadata": {},
   "outputs": [],
   "source": [
    "def crawl_data(self, browser, delay):\n",
    "    try:\n",
    "        WebDriverWait(browser, delay).until(EC.presence_of_element_located(\n",
    "            (By.XPATH, \"//div[@class='businfo']\")))\n",
    "        data = browser.find_elements_by_xpath(\"//div[@class='businfo']/dl/dd\")\n",
    "        data = [i.text for i in data]\n",
    "    except e.TimeoutException:\n",
    "        return False, e\n",
    "    return True, data\n",
    "\n",
    "KReport.crawl_data = crawl_data"
   ]
  },
  {
   "cell_type": "code",
   "execution_count": 12,
   "metadata": {},
   "outputs": [],
   "source": [
    "def etl_data(self, browser, cn, condition, data):\n",
    "    if condition == True:\n",
    "        return [cn] + data\n",
    "    return [cn] + [None] * len(data)\n",
    "\n",
    "KReport.etl_data = etl_data"
   ]
  },
  {
   "cell_type": "code",
   "execution_count": 16,
   "metadata": {},
   "outputs": [],
   "source": [
    "def run_single(cn):\n",
    "    kre = KReport() # init hyper param\n",
    "    browser = kre.init_webdriver(kre.webdriver_path, kre.webdriver_hide) # init browser\n",
    "    kre.on_site(browser, kre.base_address, kre.init_delay)\n",
    "    kre.run_query(browser, cn, kre.init_delay)\n",
    "    kre.find_herf(browser, kre.init_delay)\n",
    "\n",
    "    condition, data = kre.crawl_data(browser, kre.init_delay)\n",
    "    data = kre.etl_data(browser, cn, condition, data)\n",
    "\n",
    "    ds.dataset.append(data)\n",
    "    browser.close()\n",
    "KReport.run_single = run_single"
   ]
  },
  {
   "cell_type": "code",
   "execution_count": 17,
   "metadata": {},
   "outputs": [],
   "source": [
    "def run_async(thread_workers_count, cns):\n",
    "    loop = asyncio.get_running_loop()\n",
    "    executor = ThreadPoolExecutor(thread_workers_count)\n",
    "    \n",
    "    for cn in cns:\n",
    "        loop.run_in_executor(executor, run_single, cn)\n",
    "\n",
    "        \n",
    "    loop.run_until_complete(asyncio.gather(*asyncio.all_tasks(loop)))    \n",
    "\n",
    "KReport.run_async = run_async"
   ]
  },
  {
   "cell_type": "markdown",
   "metadata": {},
   "source": [
    "### Util"
   ]
  },
  {
   "cell_type": "code",
   "execution_count": 73,
   "metadata": {},
   "outputs": [],
   "source": [
    "def save_csv(df):\n",
    "    now = time.localtime()\n",
    "    now = time.strftime(\"%Y%m%d%H%M%S\", now)\n",
    "    file_name = '../data/result/' + now + '.csv'\n",
    "    df.to_csv(file_name,'\\t',mode='w')"
   ]
  },
  {
   "cell_type": "markdown",
   "metadata": {},
   "source": [
    "### Main"
   ]
  },
  {
   "cell_type": "code",
   "execution_count": 75,
   "metadata": {},
   "outputs": [],
   "source": [
    "ds = Dataset(['key','대표자명','법인구분','사업자등록번호','종교단체구분','법인등록번호','업종','주소','설립일'])"
   ]
  },
  {
   "cell_type": "code",
   "execution_count": 76,
   "metadata": {},
   "outputs": [],
   "source": [
    "cns = \\\n",
    "[\n",
    "'1318208689',\n",
    "'1228212229',\n",
    "'신한디에스',\n",
    "'삼성에스디에스'\n",
    "]"
   ]
  },
  {
   "cell_type": "code",
   "execution_count": 77,
   "metadata": {},
   "outputs": [],
   "source": [
    "run_async(3, cns)"
   ]
  },
  {
   "cell_type": "code",
   "execution_count": 84,
   "metadata": {},
   "outputs": [
    {
     "data": {
      "text/html": [
       "<div>\n",
       "<style scoped>\n",
       "    .dataframe tbody tr th:only-of-type {\n",
       "        vertical-align: middle;\n",
       "    }\n",
       "\n",
       "    .dataframe tbody tr th {\n",
       "        vertical-align: top;\n",
       "    }\n",
       "\n",
       "    .dataframe thead th {\n",
       "        text-align: right;\n",
       "    }\n",
       "</style>\n",
       "<table border=\"1\" class=\"dataframe\">\n",
       "  <thead>\n",
       "    <tr style=\"text-align: right;\">\n",
       "      <th></th>\n",
       "      <th>key</th>\n",
       "      <th>대표자명</th>\n",
       "      <th>법인구분</th>\n",
       "      <th>사업자등록번호</th>\n",
       "      <th>종교단체구분</th>\n",
       "      <th>법인등록번호</th>\n",
       "      <th>업종</th>\n",
       "      <th>주소</th>\n",
       "      <th>설립일</th>\n",
       "    </tr>\n",
       "  </thead>\n",
       "  <tbody>\n",
       "    <tr>\n",
       "      <th>0</th>\n",
       "      <td>1228212229</td>\n",
       "      <td>주승중</td>\n",
       "      <td>소기업</td>\n",
       "      <td>122-82-12***</td>\n",
       "      <td>일반법인</td>\n",
       "      <td>124232-0******</td>\n",
       "      <td>그 외 기타 비거주 복지 서비스업</td>\n",
       "      <td>인천 남동구 문화로</td>\n",
       "      <td>2014년 06월 20일</td>\n",
       "    </tr>\n",
       "    <tr>\n",
       "      <th>1</th>\n",
       "      <td>1318208689</td>\n",
       "      <td>박유진</td>\n",
       "      <td></td>\n",
       "      <td>131-82-08***</td>\n",
       "      <td>일반법인</td>\n",
       "      <td>124721-0******</td>\n",
       "      <td>천주교 단체</td>\n",
       "      <td>경기 김포시 하성면 월하로</td>\n",
       "      <td>2001년 12월 04일</td>\n",
       "    </tr>\n",
       "    <tr>\n",
       "      <th>2</th>\n",
       "      <td>신한디에스</td>\n",
       "      <td>이써니</td>\n",
       "      <td>보호대상중견기업</td>\n",
       "      <td>110-81-34***</td>\n",
       "      <td>외감</td>\n",
       "      <td>110111-0******</td>\n",
       "      <td>시스템 소프트웨어 개발 및 공급업</td>\n",
       "      <td>서울 중구 남대문로10길</td>\n",
       "      <td>1991년 05월 13일</td>\n",
       "    </tr>\n",
       "    <tr>\n",
       "      <th>3</th>\n",
       "      <td>삼성에스디에스</td>\n",
       "      <td>홍원표</td>\n",
       "      <td>대기업</td>\n",
       "      <td>110-81-28***</td>\n",
       "      <td>유가증권시장</td>\n",
       "      <td>110111-0******</td>\n",
       "      <td>컴퓨터시스템 통합 자문 및 구축 서비스업</td>\n",
       "      <td>서울 송파구 올림픽로35길</td>\n",
       "      <td>1985년 05월 01일</td>\n",
       "    </tr>\n",
       "  </tbody>\n",
       "</table>\n",
       "</div>"
      ],
      "text/plain": [
       "          key 대표자명      법인구분       사업자등록번호  종교단체구분          법인등록번호  \\\n",
       "0  1228212229  주승중       소기업  122-82-12***    일반법인  124232-0******   \n",
       "1  1318208689  박유진            131-82-08***    일반법인  124721-0******   \n",
       "2       신한디에스  이써니  보호대상중견기업  110-81-34***      외감  110111-0******   \n",
       "3     삼성에스디에스  홍원표       대기업  110-81-28***  유가증권시장  110111-0******   \n",
       "\n",
       "                       업종              주소            설립일  \n",
       "0      그 외 기타 비거주 복지 서비스업      인천 남동구 문화로  2014년 06월 20일  \n",
       "1                  천주교 단체  경기 김포시 하성면 월하로  2001년 12월 04일  \n",
       "2      시스템 소프트웨어 개발 및 공급업   서울 중구 남대문로10길  1991년 05월 13일  \n",
       "3  컴퓨터시스템 통합 자문 및 구축 서비스업  서울 송파구 올림픽로35길  1985년 05월 01일  "
      ]
     },
     "execution_count": 84,
     "metadata": {},
     "output_type": "execute_result"
    }
   ],
   "source": [
    "df = pd.DataFrame(ds.dataset[1:], columns=ds.dataset[0])\n",
    "df"
   ]
  },
  {
   "cell_type": "code",
   "execution_count": 74,
   "metadata": {},
   "outputs": [],
   "source": [
    "save_csv(df)"
   ]
  }
 ],
 "metadata": {
  "kernelspec": {
   "display_name": "Python 3",
   "language": "python",
   "name": "python3"
  },
  "language_info": {
   "codemirror_mode": {
    "name": "ipython",
    "version": 3
   },
   "file_extension": ".py",
   "mimetype": "text/x-python",
   "name": "python",
   "nbconvert_exporter": "python",
   "pygments_lexer": "ipython3",
   "version": "3.8.1"
  }
 },
 "nbformat": 4,
 "nbformat_minor": 4
}
